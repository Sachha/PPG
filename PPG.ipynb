{
 "cells": [
  {
   "cell_type": "code",
   "execution_count": 1,
   "metadata": {
    "collapsed": true
   },
   "outputs": [],
   "source": [
    "import pickle\n",
    "import pandas as pd\n",
    "import matplotlib, seaborn, bokeh"
   ]
  },
  {
   "cell_type": "code",
   "execution_count": 6,
   "metadata": {},
   "outputs": [],
   "source": [
    "with open('S1/S1.pkl', 'rb') as f:\n",
    "    data = pickle.load(f, encoding=\"latin1\")\n",
    "    del data['signal']['chest']['EDA']\n",
    "    del data['signal']['chest']['Temp']\n",
    "    quest = data['questionnaire']\n",
    "    del data['questionnaire']\n",
    "    del data['signal']['chest']['EMG']"
   ]
  },
  {
   "cell_type": "code",
   "execution_count": 72,
   "metadata": {
    "collapsed": true
   },
   "outputs": [],
   "source": [
    "df = pd.DataFrame()\n"
   ]
  },
  {
   "cell_type": "code",
   "execution_count": 73,
   "metadata": {},
   "outputs": [
    {
     "data": {
      "text/plain": [
       "32820"
      ]
     },
     "execution_count": 73,
     "metadata": {},
     "output_type": "execute_result"
    }
   ],
   "source": [
    "len(data[\"activity\"])"
   ]
  },
  {
   "cell_type": "code",
   "execution_count": 74,
   "metadata": {},
   "outputs": [
    {
     "data": {
      "text/plain": [
       "4099"
      ]
     },
     "execution_count": 74,
     "metadata": {},
     "output_type": "execute_result"
    }
   ],
   "source": [
    "len(data[\"label\"])"
   ]
  },
  {
   "cell_type": "code",
   "execution_count": 80,
   "metadata": {},
   "outputs": [
    {
     "data": {
      "text/plain": [
       "11247"
      ]
     },
     "execution_count": 80,
     "metadata": {},
     "output_type": "execute_result"
    }
   ],
   "source": [
    "len(data[\"rpeaks\"])"
   ]
  },
  {
   "cell_type": "code",
   "execution_count": 79,
   "metadata": {},
   "outputs": [
    {
     "data": {
      "text/plain": [
       "32820"
      ]
     },
     "execution_count": 79,
     "metadata": {},
     "output_type": "execute_result"
    }
   ],
   "source": [
    "len(data['signal']['wrist']['EDA'])"
   ]
  },
  {
   "cell_type": "code",
   "execution_count": 77,
   "metadata": {},
   "outputs": [
    {
     "data": {
      "text/plain": [
       "{'activity': array([[ 0.],\n",
       "        [ 0.],\n",
       "        [ 0.],\n",
       "        ..., \n",
       "        [ 0.],\n",
       "        [ 0.],\n",
       "        [ 0.]]),\n",
       " 'label': array([ 70.9229657 ,  71.29105528,  68.69383264, ...,  95.13817648,\n",
       "         96.7405001 ,  96.84438537]),\n",
       " 'questionnaire': {'AGE': 28,\n",
       "  'Gender': ' m',\n",
       "  'HEIGHT': 189.0,\n",
       "  'SKIN': 3,\n",
       "  'SPORT': 5,\n",
       "  'WEIGHT': 80.0},\n",
       " 'rpeaks': array([     33,     700,    1316, ..., 5742473, 5742909, 5743349]),\n",
       " 'signal': {'chest': {'ACC': array([[ 0.91139996,  0.03219998,  0.051     ],\n",
       "          [ 0.91120005,  0.03240001,  0.04900002],\n",
       "          [ 0.90900004,  0.03460002,  0.04579997],\n",
       "          ..., \n",
       "          [ 0.91659999,  0.02900004, -0.04180002],\n",
       "          [ 0.91719997,  0.03120005, -0.04220003],\n",
       "          [ 0.91620004,  0.03120005, -0.03920001]]),\n",
       "   'ECG': array([[-0.02503967],\n",
       "          [-0.02778625],\n",
       "          [-0.03515625],\n",
       "          ..., \n",
       "          [ 0.06454468],\n",
       "          [ 0.06646729],\n",
       "          [ 0.07122803]]),\n",
       "   'Resp': array([[-3.0380249 ],\n",
       "          [-3.04412842],\n",
       "          [-3.07006836],\n",
       "          ..., \n",
       "          [ 4.35028076],\n",
       "          [ 4.33654785],\n",
       "          [ 4.33807373]])},\n",
       "  'wrist': {'ACC': array([[-0.5625  ,  0.046875,  0.84375 ],\n",
       "          [-0.5625  ,  0.046875,  0.84375 ],\n",
       "          [-0.5625  ,  0.046875,  0.84375 ],\n",
       "          ..., \n",
       "          [-0.671875,  1.296875,  0.1875  ],\n",
       "          [-0.40625 ,  1.15625 ,  0.359375],\n",
       "          [-0.375   ,  1.0625  ,  0.390625]]), 'BVP': array([[-4.36],\n",
       "          [-5.11],\n",
       "          [-5.4 ],\n",
       "          ..., \n",
       "          [ 2.64],\n",
       "          [ 0.17],\n",
       "          [-2.58]]), 'EDA': array([[ 0.267766],\n",
       "          [ 0.262641],\n",
       "          [ 0.26136 ],\n",
       "          ..., \n",
       "          [ 3.363043],\n",
       "          [ 3.378417],\n",
       "          [ 3.393791]]), 'TEMP': array([[ 31.67],\n",
       "          [ 31.67],\n",
       "          [ 31.67],\n",
       "          ..., \n",
       "          [ 35.09],\n",
       "          [ 35.09],\n",
       "          [ 35.09]])}},\n",
       " 'subject': 'S2'}"
      ]
     },
     "execution_count": 77,
     "metadata": {},
     "output_type": "execute_result"
    }
   ],
   "source": [
    "data"
   ]
  },
  {
   "cell_type": "code",
   "execution_count": null,
   "metadata": {
    "collapsed": true
   },
   "outputs": [],
   "source": []
  }
 ],
 "metadata": {
  "kernelspec": {
   "display_name": "Python 3",
   "language": "python",
   "name": "python3"
  },
  "language_info": {
   "codemirror_mode": {
    "name": "ipython",
    "version": 3
   },
   "file_extension": ".py",
   "mimetype": "text/x-python",
   "name": "python",
   "nbconvert_exporter": "python",
   "pygments_lexer": "ipython3",
   "version": "3.6.2"
  }
 },
 "nbformat": 4,
 "nbformat_minor": 2
}
